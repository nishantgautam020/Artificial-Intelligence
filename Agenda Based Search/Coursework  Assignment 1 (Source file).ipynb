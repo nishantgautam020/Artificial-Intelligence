{
 "cells": [
  {
   "cell_type": "code",
   "execution_count": 65,
   "metadata": {},
   "outputs": [],
   "source": [
    "import numpy as np\n",
    "import matplotlib.pyplot as plt\n",
    "import pandas as pd\n",
    "import networkx as nx\n",
    "import json\n",
    "import csv\n",
    "%matplotlib inline\n",
    "from queue import Queue, PriorityQueue"
   ]
  },
  {
   "cell_type": "code",
   "execution_count": 66,
   "metadata": {},
   "outputs": [],
   "source": [
    "# x = pd.read_csv('tdata.csv',sep='\\t', lineterminator='\\r')\n",
    "# x"
   ]
  },
  {
   "cell_type": "code",
   "execution_count": 67,
   "metadata": {},
   "outputs": [],
   "source": [
    "# df = pd.read_csv('tdata.csv', header=None, error_bad_lines=False)\n",
    "# df"
   ]
  },
  {
   "cell_type": "code",
   "execution_count": 86,
   "metadata": {},
   "outputs": [],
   "source": [
    "def show_weighted_graph(networkx_graph, node_size, font_size, fig_size):\n",
    "  # Allocate the given fig_size in order to have space for each node\n",
    "  plt.figure(num=None, figsize=fig_size, dpi=80)\n",
    "  plt.axis('off')\n",
    "  # Compute the position of each vertex in order to display it nicely\n",
    "  nodes_position = nx.spring_layout(networkx_graph) \n",
    "  # You can change the different layouts depending on your graph\n",
    "  # Extract the weights\n",
    "  edges_weights  = nx.get_edge_attributes(networkx_graph,'Average Time Taken') \n",
    "  # Draw the nodes \n",
    "  nx.draw_networkx_nodes(networkx_graph, nodes_position, node_size=node_size,  \n",
    "                         node_color = [\"orange\"]*networkx_graph.number_of_nodes())\n",
    "  # Draw only the edges\n",
    "  nx.draw_networkx_edges(networkx_graph, nodes_position, \n",
    "                          edgelist=list(networkx_graph.edges), width=2)\n",
    "  # Add the weights\n",
    "  nx.draw_networkx_edge_labels(networkx_graph, nodes_position, \n",
    "                               edge_labels = edges_weights, font_size=font_size)\n",
    "  # Add the labels of the nodes\n",
    "  nx.draw_networkx_labels(networkx_graph, nodes_position, font_size=font_size, \n",
    "                          font_family='sans-serif')\n",
    "  plt.axis('off')\n",
    "  plt.show()\n",
    "    \n",
    "def load_data_from_file(filename):\n",
    "    df = pd.read_csv(filename,header = None).replace(' \"', '', regex = True).replace('\"','',regex = True)\n",
    "    df.columns = ['Starting Station','Ending Station','Tubeline','Average Time Taken','Main Zone','SecondaryZone']\n",
    "    \n",
    "    # Making Input a correct Pandas DataFrame edge-list.\n",
    "    edG = nx.from_pandas_edgelist(df,'Starting Station', 'Ending Station', edge_attr=True)\n",
    "    \n",
    "    return nx.Graph(edG)"
   ]
  },
  {
   "cell_type": "code",
   "execution_count": 69,
   "metadata": {
    "scrolled": true
   },
   "outputs": [],
   "source": [
    "tube_graph = load_data_from_file('tdata.csv')\n",
    "# show_weighted_graph(tube_graph, 2000, 45, (100,100))"
   ]
  },
  {
   "cell_type": "markdown",
   "metadata": {},
   "source": [
    "# 2.1 Implementing Depth First Search (DFS)"
   ]
  },
  {
   "cell_type": "code",
   "execution_count": 70,
   "metadata": {},
   "outputs": [],
   "source": [
    "# Your function implementing DFS\n",
    "def construct_path_from_root(node, root, graph):\n",
    "    \"\"\"the non-recursive way!\"\"\"\n",
    "    \n",
    "    path_from_root = [node['label']]\n",
    "    while node['parent']:\n",
    "        node = node['parent']\n",
    "        path_from_root = [node['label']] + path_from_root\n",
    "        print(path_from_root)\n",
    "    cost = nx.path_weight(graph, path_from_root, 'Average Time Taken')\n",
    "    return path_from_root, cost\n",
    "\n",
    "\n",
    "def my_depth_first_graph_search(nxobject, initial, goal, compute_exploration_cost=False, reverse=False):\n",
    "    \"\"\"the no-oop way!\"\"\"\n",
    "    \n",
    "    frontier = [{'label':initial, 'parent':None}]  \n",
    "    explored = {initial}\n",
    "    number_of_explored_nodes = 1 \n",
    "\n",
    "    while frontier:\n",
    "        node = frontier.pop() # popping from the right of the list\n",
    "        number_of_explored_nodes += 1\n",
    "        if node['label']==goal:\n",
    "            if compute_exploration_cost:\n",
    "                print('number of explorations = {}'.format(number_of_explored_nodes))\n",
    "            return node\n",
    "\n",
    "        neighbours = reversed(list(nxobject.neighbors(node['label']))) if reverse else nxobject.neighbors(node['label'])\n",
    "        for child_label in neighbours:\n",
    "\n",
    "            child = {'label':child_label, 'parent':node}\n",
    "            if child_label not in explored:\n",
    "                frontier.append(child) # added to the right of the list, so it is a LIFO\n",
    "                explored.add(child_label)      \n",
    "    return None"
   ]
  },
  {
   "cell_type": "code",
   "execution_count": 71,
   "metadata": {},
   "outputs": [
    {
     "name": "stdout",
     "output_type": "stream",
     "text": [
      "number of explorations = 177\n",
      "['Mile End', 'Stepney Green']\n",
      "['Bow Road', 'Mile End', 'Stepney Green']\n",
      "['Bromley-by-Bow', 'Bow Road', 'Mile End', 'Stepney Green']\n",
      "['West Ham', 'Bromley-by-Bow', 'Bow Road', 'Mile End', 'Stepney Green']\n",
      "['Canning Town', 'West Ham', 'Bromley-by-Bow', 'Bow Road', 'Mile End', 'Stepney Green']\n",
      "['North Greenwich', 'Canning Town', 'West Ham', 'Bromley-by-Bow', 'Bow Road', 'Mile End', 'Stepney Green']\n",
      "['Canary Wharf', 'North Greenwich', 'Canning Town', 'West Ham', 'Bromley-by-Bow', 'Bow Road', 'Mile End', 'Stepney Green']\n",
      "['Canada Water', 'Canary Wharf', 'North Greenwich', 'Canning Town', 'West Ham', 'Bromley-by-Bow', 'Bow Road', 'Mile End', 'Stepney Green']\n",
      "['Bermondsey', 'Canada Water', 'Canary Wharf', 'North Greenwich', 'Canning Town', 'West Ham', 'Bromley-by-Bow', 'Bow Road', 'Mile End', 'Stepney Green']\n",
      "['London Bridge', 'Bermondsey', 'Canada Water', 'Canary Wharf', 'North Greenwich', 'Canning Town', 'West Ham', 'Bromley-by-Bow', 'Bow Road', 'Mile End', 'Stepney Green']\n",
      "['Borough', 'London Bridge', 'Bermondsey', 'Canada Water', 'Canary Wharf', 'North Greenwich', 'Canning Town', 'West Ham', 'Bromley-by-Bow', 'Bow Road', 'Mile End', 'Stepney Green']\n",
      "['Elephant & Castle', 'Borough', 'London Bridge', 'Bermondsey', 'Canada Water', 'Canary Wharf', 'North Greenwich', 'Canning Town', 'West Ham', 'Bromley-by-Bow', 'Bow Road', 'Mile End', 'Stepney Green']\n",
      "['Kennington', 'Elephant & Castle', 'Borough', 'London Bridge', 'Bermondsey', 'Canada Water', 'Canary Wharf', 'North Greenwich', 'Canning Town', 'West Ham', 'Bromley-by-Bow', 'Bow Road', 'Mile End', 'Stepney Green']\n",
      "['Oval', 'Kennington', 'Elephant & Castle', 'Borough', 'London Bridge', 'Bermondsey', 'Canada Water', 'Canary Wharf', 'North Greenwich', 'Canning Town', 'West Ham', 'Bromley-by-Bow', 'Bow Road', 'Mile End', 'Stepney Green']\n",
      "['Stockwell', 'Oval', 'Kennington', 'Elephant & Castle', 'Borough', 'London Bridge', 'Bermondsey', 'Canada Water', 'Canary Wharf', 'North Greenwich', 'Canning Town', 'West Ham', 'Bromley-by-Bow', 'Bow Road', 'Mile End', 'Stepney Green']\n",
      "['Vauxhall', 'Stockwell', 'Oval', 'Kennington', 'Elephant & Castle', 'Borough', 'London Bridge', 'Bermondsey', 'Canada Water', 'Canary Wharf', 'North Greenwich', 'Canning Town', 'West Ham', 'Bromley-by-Bow', 'Bow Road', 'Mile End', 'Stepney Green']\n",
      "['Pimlico', 'Vauxhall', 'Stockwell', 'Oval', 'Kennington', 'Elephant & Castle', 'Borough', 'London Bridge', 'Bermondsey', 'Canada Water', 'Canary Wharf', 'North Greenwich', 'Canning Town', 'West Ham', 'Bromley-by-Bow', 'Bow Road', 'Mile End', 'Stepney Green']\n",
      "['Victoria', 'Pimlico', 'Vauxhall', 'Stockwell', 'Oval', 'Kennington', 'Elephant & Castle', 'Borough', 'London Bridge', 'Bermondsey', 'Canada Water', 'Canary Wharf', 'North Greenwich', 'Canning Town', 'West Ham', 'Bromley-by-Bow', 'Bow Road', 'Mile End', 'Stepney Green']\n",
      "['Green Park', 'Victoria', 'Pimlico', 'Vauxhall', 'Stockwell', 'Oval', 'Kennington', 'Elephant & Castle', 'Borough', 'London Bridge', 'Bermondsey', 'Canada Water', 'Canary Wharf', 'North Greenwich', 'Canning Town', 'West Ham', 'Bromley-by-Bow', 'Bow Road', 'Mile End', 'Stepney Green']\n",
      "['Westminster', 'Green Park', 'Victoria', 'Pimlico', 'Vauxhall', 'Stockwell', 'Oval', 'Kennington', 'Elephant & Castle', 'Borough', 'London Bridge', 'Bermondsey', 'Canada Water', 'Canary Wharf', 'North Greenwich', 'Canning Town', 'West Ham', 'Bromley-by-Bow', 'Bow Road', 'Mile End', 'Stepney Green']\n",
      "['Embankment', 'Westminster', 'Green Park', 'Victoria', 'Pimlico', 'Vauxhall', 'Stockwell', 'Oval', 'Kennington', 'Elephant & Castle', 'Borough', 'London Bridge', 'Bermondsey', 'Canada Water', 'Canary Wharf', 'North Greenwich', 'Canning Town', 'West Ham', 'Bromley-by-Bow', 'Bow Road', 'Mile End', 'Stepney Green']\n",
      "['Charing Cross', 'Embankment', 'Westminster', 'Green Park', 'Victoria', 'Pimlico', 'Vauxhall', 'Stockwell', 'Oval', 'Kennington', 'Elephant & Castle', 'Borough', 'London Bridge', 'Bermondsey', 'Canada Water', 'Canary Wharf', 'North Greenwich', 'Canning Town', 'West Ham', 'Bromley-by-Bow', 'Bow Road', 'Mile End', 'Stepney Green']\n",
      "['Leicester Square', 'Charing Cross', 'Embankment', 'Westminster', 'Green Park', 'Victoria', 'Pimlico', 'Vauxhall', 'Stockwell', 'Oval', 'Kennington', 'Elephant & Castle', 'Borough', 'London Bridge', 'Bermondsey', 'Canada Water', 'Canary Wharf', 'North Greenwich', 'Canning Town', 'West Ham', 'Bromley-by-Bow', 'Bow Road', 'Mile End', 'Stepney Green']\n",
      "['Tottenham Court Road', 'Leicester Square', 'Charing Cross', 'Embankment', 'Westminster', 'Green Park', 'Victoria', 'Pimlico', 'Vauxhall', 'Stockwell', 'Oval', 'Kennington', 'Elephant & Castle', 'Borough', 'London Bridge', 'Bermondsey', 'Canada Water', 'Canary Wharf', 'North Greenwich', 'Canning Town', 'West Ham', 'Bromley-by-Bow', 'Bow Road', 'Mile End', 'Stepney Green']\n",
      "['Goodge Street', 'Tottenham Court Road', 'Leicester Square', 'Charing Cross', 'Embankment', 'Westminster', 'Green Park', 'Victoria', 'Pimlico', 'Vauxhall', 'Stockwell', 'Oval', 'Kennington', 'Elephant & Castle', 'Borough', 'London Bridge', 'Bermondsey', 'Canada Water', 'Canary Wharf', 'North Greenwich', 'Canning Town', 'West Ham', 'Bromley-by-Bow', 'Bow Road', 'Mile End', 'Stepney Green']\n",
      "['Warren Street', 'Goodge Street', 'Tottenham Court Road', 'Leicester Square', 'Charing Cross', 'Embankment', 'Westminster', 'Green Park', 'Victoria', 'Pimlico', 'Vauxhall', 'Stockwell', 'Oval', 'Kennington', 'Elephant & Castle', 'Borough', 'London Bridge', 'Bermondsey', 'Canada Water', 'Canary Wharf', 'North Greenwich', 'Canning Town', 'West Ham', 'Bromley-by-Bow', 'Bow Road', 'Mile End', 'Stepney Green']\n",
      "['Euston', 'Warren Street', 'Goodge Street', 'Tottenham Court Road', 'Leicester Square', 'Charing Cross', 'Embankment', 'Westminster', 'Green Park', 'Victoria', 'Pimlico', 'Vauxhall', 'Stockwell', 'Oval', 'Kennington', 'Elephant & Castle', 'Borough', 'London Bridge', 'Bermondsey', 'Canada Water', 'Canary Wharf', 'North Greenwich', 'Canning Town', 'West Ham', 'Bromley-by-Bow', 'Bow Road', 'Mile End', 'Stepney Green']\n"
     ]
    },
    {
     "data": {
      "text/plain": [
       "(['Euston',\n",
       "  'Warren Street',\n",
       "  'Goodge Street',\n",
       "  'Tottenham Court Road',\n",
       "  'Leicester Square',\n",
       "  'Charing Cross',\n",
       "  'Embankment',\n",
       "  'Westminster',\n",
       "  'Green Park',\n",
       "  'Victoria',\n",
       "  'Pimlico',\n",
       "  'Vauxhall',\n",
       "  'Stockwell',\n",
       "  'Oval',\n",
       "  'Kennington',\n",
       "  'Elephant & Castle',\n",
       "  'Borough',\n",
       "  'London Bridge',\n",
       "  'Bermondsey',\n",
       "  'Canada Water',\n",
       "  'Canary Wharf',\n",
       "  'North Greenwich',\n",
       "  'Canning Town',\n",
       "  'West Ham',\n",
       "  'Bromley-by-Bow',\n",
       "  'Bow Road',\n",
       "  'Mile End',\n",
       "  'Stepney Green'],\n",
       " 56)"
      ]
     },
     "execution_count": 71,
     "metadata": {},
     "output_type": "execute_result"
    }
   ],
   "source": [
    "# You can call your function like this:  Canada Water to Stratford\n",
    "sol_DFS = my_depth_first_graph_search(tube_graph, 'Euston' , 'Stepney Green', True) # nodes = 32 - Tooting Bec to Covent Garden\n",
    "construct_path_from_root(sol_DFS, 'Euston', tube_graph)"
   ]
  },
  {
   "cell_type": "code",
   "execution_count": 72,
   "metadata": {},
   "outputs": [],
   "source": [
    "# # FINDING NEIGHBOUR NODES\n",
    "# nei = tube_graph.neighbors('Canada Water')\n",
    "# # nei = nx.neighbors(tube_graph, 'Amersham')\n",
    "# for i in nei:\n",
    "#     print([i])"
   ]
  },
  {
   "cell_type": "markdown",
   "metadata": {},
   "source": [
    "# 2.1 Implementing Breath First Search (BFS)"
   ]
  },
  {
   "cell_type": "code",
   "execution_count": 73,
   "metadata": {},
   "outputs": [],
   "source": [
    "# Your function implmenting BFS\n",
    "\n",
    "def my_breadth_first_graph_search(nxobject, initial, goal, compute_exploration_cost=False, reverse=False):\n",
    "    \n",
    "    if initial == goal: # just in case, because now we are checking the children\n",
    "        return None\n",
    "    \n",
    "    number_of_explored_nodes = 1    \n",
    "    frontier = [{'label':initial, 'parent':None}]  \n",
    "    # FIFO queue should NOT be implemented with a list, this is slow! better to use deque\n",
    "    explored = {initial}\n",
    "    \n",
    "    while frontier:\n",
    "        node = frontier.pop() # pop from the right of the list\n",
    "        \n",
    "        neighbours = reversed(list(nxobject.neighbors(node['label']))) if reverse else nxobject.neighbors(node['label'])\n",
    "\n",
    "        for child_label in neighbours:\n",
    "            child = {'label':child_label, 'parent':node}\n",
    "            if child_label==goal:\n",
    "                if compute_exploration_cost:\n",
    "                    print('number of explorations = {}'.format(number_of_explored_nodes))\n",
    "                return child\n",
    " \n",
    "            if child_label not in explored:\n",
    "                frontier = [child] + frontier # added to the left of the list, so a FIFO!\n",
    "                number_of_explored_nodes += 1\n",
    "                explored.add(child_label)\n",
    "            \n",
    "    return None"
   ]
  },
  {
   "cell_type": "code",
   "execution_count": 74,
   "metadata": {},
   "outputs": [
    {
     "name": "stdout",
     "output_type": "stream",
     "text": [
      "number of explorations = 247\n",
      "['West Ham', 'Stratford']\n",
      "['Canning Town', 'West Ham', 'Stratford']\n",
      "['North Greenwich', 'Canning Town', 'West Ham', 'Stratford']\n",
      "['Canary Wharf', 'North Greenwich', 'Canning Town', 'West Ham', 'Stratford']\n",
      "['Canada Water', 'Canary Wharf', 'North Greenwich', 'Canning Town', 'West Ham', 'Stratford']\n"
     ]
    },
    {
     "data": {
      "text/plain": [
       "(['Canada Water',\n",
       "  'Canary Wharf',\n",
       "  'North Greenwich',\n",
       "  'Canning Town',\n",
       "  'West Ham',\n",
       "  'Stratford'],\n",
       " 15)"
      ]
     },
     "execution_count": 74,
     "metadata": {},
     "output_type": "execute_result"
    }
   ],
   "source": [
    "# call your function like this: \n",
    "sol_BFS = my_depth_first_graph_search(tube_graph, 'Canada Water' , 'Stratford', True) # nodes = 32 - Tooting Bec to Covent Garden\n",
    "construct_path_from_root(sol_BFS, 'Stratford', tube_graph)"
   ]
  },
  {
   "cell_type": "code",
   "execution_count": 75,
   "metadata": {},
   "outputs": [
    {
     "name": "stdout",
     "output_type": "stream",
     "text": [
      "\n",
      "Using BFS:\n",
      "==========\n",
      "['Mile End', 'Stepney Green']\n",
      "['Bow Road', 'Mile End', 'Stepney Green']\n",
      "['Bromley-by-Bow', 'Bow Road', 'Mile End', 'Stepney Green']\n",
      "['West Ham', 'Bromley-by-Bow', 'Bow Road', 'Mile End', 'Stepney Green']\n",
      "['Canning Town', 'West Ham', 'Bromley-by-Bow', 'Bow Road', 'Mile End', 'Stepney Green']\n",
      "['North Greenwich', 'Canning Town', 'West Ham', 'Bromley-by-Bow', 'Bow Road', 'Mile End', 'Stepney Green']\n",
      "['Canary Wharf', 'North Greenwich', 'Canning Town', 'West Ham', 'Bromley-by-Bow', 'Bow Road', 'Mile End', 'Stepney Green']\n",
      "['Canada Water', 'Canary Wharf', 'North Greenwich', 'Canning Town', 'West Ham', 'Bromley-by-Bow', 'Bow Road', 'Mile End', 'Stepney Green']\n",
      "['Bermondsey', 'Canada Water', 'Canary Wharf', 'North Greenwich', 'Canning Town', 'West Ham', 'Bromley-by-Bow', 'Bow Road', 'Mile End', 'Stepney Green']\n",
      "['London Bridge', 'Bermondsey', 'Canada Water', 'Canary Wharf', 'North Greenwich', 'Canning Town', 'West Ham', 'Bromley-by-Bow', 'Bow Road', 'Mile End', 'Stepney Green']\n",
      "['Borough', 'London Bridge', 'Bermondsey', 'Canada Water', 'Canary Wharf', 'North Greenwich', 'Canning Town', 'West Ham', 'Bromley-by-Bow', 'Bow Road', 'Mile End', 'Stepney Green']\n",
      "['Elephant & Castle', 'Borough', 'London Bridge', 'Bermondsey', 'Canada Water', 'Canary Wharf', 'North Greenwich', 'Canning Town', 'West Ham', 'Bromley-by-Bow', 'Bow Road', 'Mile End', 'Stepney Green']\n",
      "['Kennington', 'Elephant & Castle', 'Borough', 'London Bridge', 'Bermondsey', 'Canada Water', 'Canary Wharf', 'North Greenwich', 'Canning Town', 'West Ham', 'Bromley-by-Bow', 'Bow Road', 'Mile End', 'Stepney Green']\n",
      "['Oval', 'Kennington', 'Elephant & Castle', 'Borough', 'London Bridge', 'Bermondsey', 'Canada Water', 'Canary Wharf', 'North Greenwich', 'Canning Town', 'West Ham', 'Bromley-by-Bow', 'Bow Road', 'Mile End', 'Stepney Green']\n",
      "['Stockwell', 'Oval', 'Kennington', 'Elephant & Castle', 'Borough', 'London Bridge', 'Bermondsey', 'Canada Water', 'Canary Wharf', 'North Greenwich', 'Canning Town', 'West Ham', 'Bromley-by-Bow', 'Bow Road', 'Mile End', 'Stepney Green']\n",
      "['Vauxhall', 'Stockwell', 'Oval', 'Kennington', 'Elephant & Castle', 'Borough', 'London Bridge', 'Bermondsey', 'Canada Water', 'Canary Wharf', 'North Greenwich', 'Canning Town', 'West Ham', 'Bromley-by-Bow', 'Bow Road', 'Mile End', 'Stepney Green']\n",
      "['Pimlico', 'Vauxhall', 'Stockwell', 'Oval', 'Kennington', 'Elephant & Castle', 'Borough', 'London Bridge', 'Bermondsey', 'Canada Water', 'Canary Wharf', 'North Greenwich', 'Canning Town', 'West Ham', 'Bromley-by-Bow', 'Bow Road', 'Mile End', 'Stepney Green']\n",
      "['Victoria', 'Pimlico', 'Vauxhall', 'Stockwell', 'Oval', 'Kennington', 'Elephant & Castle', 'Borough', 'London Bridge', 'Bermondsey', 'Canada Water', 'Canary Wharf', 'North Greenwich', 'Canning Town', 'West Ham', 'Bromley-by-Bow', 'Bow Road', 'Mile End', 'Stepney Green']\n",
      "['Green Park', 'Victoria', 'Pimlico', 'Vauxhall', 'Stockwell', 'Oval', 'Kennington', 'Elephant & Castle', 'Borough', 'London Bridge', 'Bermondsey', 'Canada Water', 'Canary Wharf', 'North Greenwich', 'Canning Town', 'West Ham', 'Bromley-by-Bow', 'Bow Road', 'Mile End', 'Stepney Green']\n",
      "['Westminster', 'Green Park', 'Victoria', 'Pimlico', 'Vauxhall', 'Stockwell', 'Oval', 'Kennington', 'Elephant & Castle', 'Borough', 'London Bridge', 'Bermondsey', 'Canada Water', 'Canary Wharf', 'North Greenwich', 'Canning Town', 'West Ham', 'Bromley-by-Bow', 'Bow Road', 'Mile End', 'Stepney Green']\n",
      "['Embankment', 'Westminster', 'Green Park', 'Victoria', 'Pimlico', 'Vauxhall', 'Stockwell', 'Oval', 'Kennington', 'Elephant & Castle', 'Borough', 'London Bridge', 'Bermondsey', 'Canada Water', 'Canary Wharf', 'North Greenwich', 'Canning Town', 'West Ham', 'Bromley-by-Bow', 'Bow Road', 'Mile End', 'Stepney Green']\n",
      "['Charing Cross', 'Embankment', 'Westminster', 'Green Park', 'Victoria', 'Pimlico', 'Vauxhall', 'Stockwell', 'Oval', 'Kennington', 'Elephant & Castle', 'Borough', 'London Bridge', 'Bermondsey', 'Canada Water', 'Canary Wharf', 'North Greenwich', 'Canning Town', 'West Ham', 'Bromley-by-Bow', 'Bow Road', 'Mile End', 'Stepney Green']\n",
      "['Leicester Square', 'Charing Cross', 'Embankment', 'Westminster', 'Green Park', 'Victoria', 'Pimlico', 'Vauxhall', 'Stockwell', 'Oval', 'Kennington', 'Elephant & Castle', 'Borough', 'London Bridge', 'Bermondsey', 'Canada Water', 'Canary Wharf', 'North Greenwich', 'Canning Town', 'West Ham', 'Bromley-by-Bow', 'Bow Road', 'Mile End', 'Stepney Green']\n",
      "['Tottenham Court Road', 'Leicester Square', 'Charing Cross', 'Embankment', 'Westminster', 'Green Park', 'Victoria', 'Pimlico', 'Vauxhall', 'Stockwell', 'Oval', 'Kennington', 'Elephant & Castle', 'Borough', 'London Bridge', 'Bermondsey', 'Canada Water', 'Canary Wharf', 'North Greenwich', 'Canning Town', 'West Ham', 'Bromley-by-Bow', 'Bow Road', 'Mile End', 'Stepney Green']\n",
      "['Goodge Street', 'Tottenham Court Road', 'Leicester Square', 'Charing Cross', 'Embankment', 'Westminster', 'Green Park', 'Victoria', 'Pimlico', 'Vauxhall', 'Stockwell', 'Oval', 'Kennington', 'Elephant & Castle', 'Borough', 'London Bridge', 'Bermondsey', 'Canada Water', 'Canary Wharf', 'North Greenwich', 'Canning Town', 'West Ham', 'Bromley-by-Bow', 'Bow Road', 'Mile End', 'Stepney Green']\n",
      "['Warren Street', 'Goodge Street', 'Tottenham Court Road', 'Leicester Square', 'Charing Cross', 'Embankment', 'Westminster', 'Green Park', 'Victoria', 'Pimlico', 'Vauxhall', 'Stockwell', 'Oval', 'Kennington', 'Elephant & Castle', 'Borough', 'London Bridge', 'Bermondsey', 'Canada Water', 'Canary Wharf', 'North Greenwich', 'Canning Town', 'West Ham', 'Bromley-by-Bow', 'Bow Road', 'Mile End', 'Stepney Green']\n",
      "['Euston', 'Warren Street', 'Goodge Street', 'Tottenham Court Road', 'Leicester Square', 'Charing Cross', 'Embankment', 'Westminster', 'Green Park', 'Victoria', 'Pimlico', 'Vauxhall', 'Stockwell', 'Oval', 'Kennington', 'Elephant & Castle', 'Borough', 'London Bridge', 'Bermondsey', 'Canada Water', 'Canary Wharf', 'North Greenwich', 'Canning Town', 'West Ham', 'Bromley-by-Bow', 'Bow Road', 'Mile End', 'Stepney Green']\n",
      "(['Euston', 'Warren Street', 'Goodge Street', 'Tottenham Court Road', 'Leicester Square', 'Charing Cross', 'Embankment', 'Westminster', 'Green Park', 'Victoria', 'Pimlico', 'Vauxhall', 'Stockwell', 'Oval', 'Kennington', 'Elephant & Castle', 'Borough', 'London Bridge', 'Bermondsey', 'Canada Water', 'Canary Wharf', 'North Greenwich', 'Canning Town', 'West Ham', 'Bromley-by-Bow', 'Bow Road', 'Mile End', 'Stepney Green'], 56)\n"
     ]
    }
   ],
   "source": [
    "# You can call both your BFS and DFS function in this cell with large_labyrinth, \"entrance\" and \"exit\".\n",
    "\n",
    "print('\\nUsing BFS:\\n'+'='*10)\n",
    "print(construct_path_from_root(sol_DFS, 'Baker Street', tube_graph))"
   ]
  },
  {
   "cell_type": "markdown",
   "metadata": {},
   "source": [
    "# 2.1 Implementing Uniform Cost Search (UCS)"
   ]
  },
  {
   "cell_type": "code",
   "execution_count": 76,
   "metadata": {},
   "outputs": [],
   "source": [
    "import heapq"
   ]
  },
  {
   "cell_type": "code",
   "execution_count": 77,
   "metadata": {},
   "outputs": [],
   "source": [
    "def uniformCostSearch(graph, origin, goal):\n",
    "       frontier = []\n",
    "       frontierIndex = {}\n",
    "       node = (0, origin, [origin])\n",
    "       # Use a dictionary to keep track of the elements inside the frontier (queue)\n",
    "       frontierIndex[node[1]] = [node[0], node[2]]\n",
    "       # Insert the node inside the forontier (queue)\n",
    "       heapq.heappush(frontier, node)\n",
    "       explored = set()\n",
    "       while frontier:\n",
    "              if len(frontier) == 0:\n",
    "                     return None\n",
    "              # Pop elemenet with lower path cost in the queue\n",
    "              node = heapq.heappop(frontier)\n",
    "              # Delete from the dicitonary the element that has beeen popped\n",
    "              del frontierIndex[node[1]]\n",
    "              # Check if the solution has been found\n",
    "              if node[1] == goal:\n",
    "                     return node\n",
    "              explored.add(node[1])\n",
    "              # Get a list of all the child nodes of node\n",
    "              neighbours = list(graph.neighbors(node[1]))\n",
    "              path = node[2]\n",
    "              for child in neighbours:\n",
    "                     path.append(child)\n",
    "                     # create the child node that will be inserted in frontier\n",
    "                     childNode = (node[0] + graph.get_edge_data(node[1], child)[\"Average Time Taken\"], child, path)\n",
    "#                      print(\"frontier = {}\".format(childNode))\n",
    "                     # Check the child node is not explored and not in frontier thorugh the dictionary\n",
    "                     if child not in explored and child not in frontierIndex:\n",
    "                            heapq.heappush(frontier, childNode)\n",
    "                            frontierIndex[child] = [childNode[0], childNode[2]]\n",
    "                     elif child in frontierIndex: \n",
    "                            # Checks if the child node has a lower path cost than the node already in frontier\n",
    "                            if childNode[0] < frontierIndex[child][0]:\n",
    "                                   nodeToRemove = (frontierIndex[child][0], child, frontierIndex[child][1])\n",
    "                                   frontier.remove(nodeToRemove)\n",
    "                                   heapq.heapify(frontier)\n",
    "                                   del frontierIndex[child]\n",
    "\n",
    "                                   heapq.heappush(frontier, childNode)\n",
    "                                   frontierIndex[child] = [childNode[0], childNode[2]]\n",
    "                     path = path[:-1]\n",
    "\n",
    "              \n",
    "#               print(\"Explored {}\".format(len(explored)))"
   ]
  },
  {
   "cell_type": "code",
   "execution_count": 109,
   "metadata": {},
   "outputs": [
    {
     "name": "stdout",
     "output_type": "stream",
     "text": [
      "SOLUTION: (13, 'Wembley Park', ['Baker Street', 'Finchley Road', 'Wembley Park'])\n"
     ]
    }
   ],
   "source": [
    "sol_UCS = uniformCostSearch(tube_graph, 'Baker Street', 'Wembley Park')\n",
    "print(\"SOLUTION: {}\".format(sol_UCS))\n"
   ]
  },
  {
   "cell_type": "code",
   "execution_count": 110,
   "metadata": {},
   "outputs": [],
   "source": [
    "# construct_path_from_root(sol_UCS, 'Canada Water')"
   ]
  },
  {
   "cell_type": "code",
   "execution_count": 111,
   "metadata": {},
   "outputs": [],
   "source": [
    "# show_weighted_graph(tube_graph, 5000, 45, (100,100))"
   ]
  },
  {
   "cell_type": "code",
   "execution_count": 112,
   "metadata": {},
   "outputs": [],
   "source": [
    "stations = load_data_from_file('tdata.csv')\n",
    "# show_weighted_graph(stations, 2500, 10, (50, 50))"
   ]
  },
  {
   "cell_type": "markdown",
   "metadata": {},
   "source": [
    "# 2.3 Computing Cost Function"
   ]
  },
  {
   "cell_type": "code",
   "execution_count": 113,
   "metadata": {},
   "outputs": [],
   "source": [
    "def compute_path_cost_tubeline(graph, path):\n",
    "  \"\"\"\n",
    "    Compute cost of a path\n",
    "  \"\"\"\n",
    "  tubelines = {}\n",
    "  cost1 = 0\n",
    "  cost2 = 0\n",
    "  for index_city in range(len(path) - 1):\n",
    "    tubelines[index_city] = graph[path[index_city]][path[index_city + 1]][\"Tubeline\"]\n",
    "    cost1 += graph[path[index_city]][path[index_city + 1]][\"Average Time Taken\"]\n",
    "  for index_city in range(len(tubelines) - 1):\n",
    "    cost2 += 1 if not tubelines[index_city] == tubelines[index_city+1] else 0\n",
    "  return cost1, cost2"
   ]
  },
  {
   "cell_type": "code",
   "execution_count": 114,
   "metadata": {},
   "outputs": [
    {
     "name": "stdout",
     "output_type": "stream",
     "text": [
      "average cost for Average Time Taken - 13\n",
      "new cost for change of tubelines - 0\n"
     ]
    }
   ],
   "source": [
    "# Function Call\n",
    "\n",
    "x1,x2 = compute_path_cost_tubeline(tube_graph, sol_UCS[2])\n",
    "print('average cost for Average Time Taken - {}'.format(x1))\n",
    "print('new cost for change of tubelines - {}'.format(x2))\n"
   ]
  },
  {
   "cell_type": "code",
   "execution_count": null,
   "metadata": {},
   "outputs": [],
   "source": []
  },
  {
   "cell_type": "markdown",
   "metadata": {},
   "source": [
    "# 2.4 Heuristic search\n",
    "\n",
    "# A* (A-STAR)- HEURISTIC 1"
   ]
  },
  {
   "cell_type": "code",
   "execution_count": 23,
   "metadata": {},
   "outputs": [],
   "source": [
    "# Needed to hide warnings in the matplotlib sections\n",
    "import warnings\n",
    "warnings.filterwarnings(\"ignore\")\n",
    "%matplotlib inline\n",
    "import networkx as nx\n",
    "import matplotlib.pyplot as plt\n",
    "from matplotlib import lines\n",
    "\n",
    "from ipywidgets import interact\n",
    "import ipywidgets as widgets\n",
    "from IPython.display import display\n",
    "import time\n",
    "import math"
   ]
  },
  {
   "cell_type": "code",
   "execution_count": 117,
   "metadata": {},
   "outputs": [],
   "source": []
  },
  {
   "cell_type": "code",
   "execution_count": 120,
   "metadata": {},
   "outputs": [],
   "source": [
    "import re\n",
    "from queue import PriorityQueue\n",
    "\n",
    "def heuristic(pos,node): # Calculates the admissible heuristic of a node\n",
    "    \n",
    "    node = str(pos[node])\n",
    "#     print(node)\n",
    "    node = node.replace('[','') \n",
    "    node = node.replace(']','')\n",
    "    node = node.strip()\n",
    "    node = re.sub(r' {2,}' , ' ', node)\n",
    "    x, y = node.split(' ', maxsplit=2) # Split values by ,\n",
    "    x = float(x)\n",
    "    y = float(y)\n",
    "    return abs(x-9) + abs(y-9) # Return calculation of admissible heuristic (manhattan distance)\n",
    "\n",
    "def Astar(graph, origin, goal):\n",
    "    admissible_heuristics = {} \n",
    "    pos = nx.spring_layout(graph) # positioning nodes using Fruchterman-Reingold force-directed algorithm\n",
    "    h = heuristic(pos,origin)\n",
    "    \n",
    "    admissible_heuristics[origin] = h\n",
    "    visited_nodes = {} # This will contain the data of how to get to any node\n",
    "    visited_nodes[origin] = (h, [origin]) # I add the data for the origin node: \"Travel cost + heuristic\", \"Path to get there\" and \"Admissible Heuristic\"\n",
    "\n",
    "    paths_to_explore = PriorityQueue()\n",
    "    paths_to_explore.put((h, [origin], 0)) # Add the origin node to paths to explore, also add cost without h\n",
    "        # I add the total cost, as well as the path to get there (they will be sorted automatically)\n",
    "\n",
    "    while not paths_to_explore.empty(): # While there are still paths to explore\n",
    "        # Pop elemenet with lower path cost in the queue\n",
    "        _, path, total_cost = paths_to_explore.get()\n",
    "        current_node = path[-1]\n",
    "        neighbors = graph.neighbors(current_node) # I get all the neighbors of the current path\n",
    "                \n",
    "        for neighbor in neighbors:\n",
    "            edge_data = graph.get_edge_data(path[-1], neighbor)\n",
    "            if \"Average Time Taken\" in edge_data:\n",
    "                cost_to_neighbor = edge_data[\"Average Time Taken\"] # If the graph has weights\n",
    "            else:\n",
    "                cost_to_neighbor = 1 # If the graph does not have weights I use 1\n",
    "\n",
    "            if neighbor in admissible_heuristics:\n",
    "                h = admissible_heuristics[neighbor]\n",
    "            else:\n",
    "                h = heuristic(pos,neighbor)\n",
    "                admissible_heuristics[neighbor] = h\n",
    "\n",
    "            new_cost = total_cost + cost_to_neighbor\n",
    "            new_cost_plus_h = new_cost + h\n",
    "            if (neighbor not in visited_nodes) or (visited_nodes[neighbor][0]>new_cost_plus_h): # If this node was never explored, or the cost to get there is better than te previous ones\n",
    "                next_node = (new_cost_plus_h, path+[neighbor], new_cost)\n",
    "                visited_nodes[neighbor] = next_node # Update the node with best value\n",
    "                paths_to_explore.put(next_node) # Also will add it as a possible path to explore\n",
    "\n",
    "    return visited_nodes[goal] # return the goal information, it will have both the total cost and the path\n"
   ]
  },
  {
   "cell_type": "code",
   "execution_count": 121,
   "metadata": {
    "scrolled": false
   },
   "outputs": [
    {
     "name": "stdout",
     "output_type": "stream",
     "text": [
      "Cost for Path - A-Star \n",
      " (25.187218700000003, ['Euston', 'Warren Street', 'Oxford Circus', 'Green Park', 'Victoria'], 7)\n"
     ]
    }
   ],
   "source": [
    "sol_A_star = Astar(tube_graph,\"Euston\",\"Victoria\")\n",
    "print(\"Cost for Path - A-Star \\n\",sol_A_star)"
   ]
  },
  {
   "cell_type": "markdown",
   "metadata": {},
   "source": [
    "# NEW HEURISTIC (Main Zone and Manhattan Distance)"
   ]
  },
  {
   "cell_type": "code",
   "execution_count": 127,
   "metadata": {},
   "outputs": [],
   "source": [
    "# Main zone Heuristic\n",
    "def heuristic(G, a, b) -> float:\n",
    "    if a == 0:\n",
    "        return 0\n",
    "    else:\n",
    "        x = G[a][b]['Main Zone']\n",
    "    return x\n",
    "\n",
    "def heuristic1(nodes_position, node): # Calculates the admissible heuristic of a node\n",
    "    # I know the format is [X,Y]\n",
    "   \n",
    "    node = str(nodes_position[node])\n",
    "    node = node.replace('[','') # remove brackets\n",
    "    node = node.replace(']','')\n",
    "    node  = node.strip()\n",
    "    node = re.sub(r' {2,}' , ' ', node)\n",
    "    x, y = node.split(' ', maxsplit=2) # Split values by ,\n",
    "    x = float(x)\n",
    "    y = float(y)\n",
    "    return abs(x-9) + abs(y-9) # Return calculation of admissible heuristic (manhattan distance)"
   ]
  },
  {
   "cell_type": "code",
   "execution_count": 130,
   "metadata": {},
   "outputs": [],
   "source": [
    "def a_star_search(graph, start, goal):\n",
    "    frontier = PriorityQueue()\n",
    "    frontier.put(start, 0)\n",
    "    h_list = {}\n",
    "    h = heuristic(graph, 0, start)\n",
    "    h_list[start] = h\n",
    "    h1_list = {}\n",
    "    nodes_position = nx.spring_layout(graph)\n",
    "    h1 = heuristic1(nodes_position, start)\n",
    "    h1_list[start] = h1\n",
    "    came_from: Dict[str, Optional[str]] = {}\n",
    "    cost_so_far: Dict[str, float] = {}\n",
    "    came_from[start] = None\n",
    "    path = [start]\n",
    "    cost_so_far[start] = 0\n",
    "   \n",
    "    while not frontier.empty():\n",
    "        current = frontier.get()\n",
    "       \n",
    "        if current == goal:\n",
    "            break\n",
    "       \n",
    "        for next in graph.neighbors(current):\n",
    "            h_list[next] = heuristic(graph, current, next) # calculating heuristic based on Mainzone changes in path\n",
    "            h1_list[next] = heuristic1(nodes_position, next) # calculating heuristic based on manhattan distance\n",
    "            new_cost = cost_so_far[current] +  graph[current][next]['Average Time Taken']\n",
    "            if (next not in cost_so_far) or (new_cost < cost_so_far[next]):\n",
    "                cost_so_far[next] = new_cost\n",
    "                h = 0 if not h_list[current] == h_list[next] else 1 #add Mainzone heuristic value as 0 if there's a change in MainZone - lesser priority\n",
    "                priority = new_cost + h + h1_list[next] #adding both heuristic to priority\n",
    "                frontier.put(next, priority)\n",
    "                came_from[next] = current\n",
    "            if next not in path:\n",
    "                path.append(next)\n",
    "   \n",
    "    return came_from, cost_so_far[goal]"
   ]
  },
  {
   "cell_type": "code",
   "execution_count": 132,
   "metadata": {},
   "outputs": [
    {
     "name": "stdout",
     "output_type": "stream",
     "text": [
      "Ealing Broadway Ealing Common Acton Town Turnham Green Hammersmith Barons Court Earls' Court Gloucester Road South Kensington 20\n"
     ]
    }
   ],
   "source": [
    "start = 'Ealing Broadway'\n",
    "goal = 'South Kensington'\n",
    "came_from, cost_so_far = a_star_search(tube_graph, start , goal)\n",
    "\n",
    "node = came_from[goal]\n",
    "path = goal\n",
    "while not node == None:\n",
    "    path = node + ' ' + path\n",
    "    node = came_from[node]\n",
    "   \n",
    "print(path, cost_so_far)"
   ]
  },
  {
   "cell_type": "code",
   "execution_count": null,
   "metadata": {},
   "outputs": [],
   "source": []
  }
 ],
 "metadata": {
  "kernelspec": {
   "display_name": "Python 3",
   "language": "python",
   "name": "python3"
  },
  "language_info": {
   "codemirror_mode": {
    "name": "ipython",
    "version": 3
   },
   "file_extension": ".py",
   "mimetype": "text/x-python",
   "name": "python",
   "nbconvert_exporter": "python",
   "pygments_lexer": "ipython3",
   "version": "3.7.4"
  }
 },
 "nbformat": 4,
 "nbformat_minor": 2
}
